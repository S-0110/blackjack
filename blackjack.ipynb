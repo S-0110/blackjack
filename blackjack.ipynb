{
  "nbformat": 4,
  "nbformat_minor": 0,
  "metadata": {
    "colab": {
      "provenance": [],
      "authorship_tag": "ABX9TyPSgZJgIL6UvxaSyB0b47jv",
      "include_colab_link": true
    },
    "kernelspec": {
      "name": "python3",
      "display_name": "Python 3"
    },
    "language_info": {
      "name": "python"
    }
  },
  "cells": [
    {
      "cell_type": "markdown",
      "metadata": {
        "id": "view-in-github",
        "colab_type": "text"
      },
      "source": [
        "<a href=\"https://colab.research.google.com/github/S-0110/blackjack/blob/main/blackjack.ipynb\" target=\"_parent\"><img src=\"https://colab.research.google.com/assets/colab-badge.svg\" alt=\"Open In Colab\"/></a>"
      ]
    },
    {
      "cell_type": "code",
      "execution_count": null,
      "metadata": {
        "id": "gLR59EsBodVI"
      },
      "outputs": [],
      "source": [
        "\n",
        "from IPython.display import clear_output\n",
        "import random\n",
        "logo = \"\"\"\n",
        ".------.            _     _            _    _            _\n",
        "|A_  _ |.          | |   | |          | |  (_)          | |\n",
        "|( \\/ ).-----.     | |__ | | __ _  ___| | ___  __ _  ___| | __\n",
        "| \\  /|K /\\  |     | '_ \\| |/ _` |/ __| |/ / |/ _` |/ __| |/ /\n",
        "|  \\/ | /  \\ |     | |_) | | (_| | (__|   <| | (_| | (__|   <\n",
        "`-----| \\  / |     |_.__/|_|\\__,_|\\___|_|\\_\\ |\\__,_|\\___|_|\\_\\\\\n",
        "      |  \\/ K|                            _/ |\n",
        "      `------'                           |__/\n",
        "\"\"\"\n",
        "def deal_card():\n",
        "  cards = [11, 2, 3, 4, 5, 6, 7, 8, 9, 10, 10, 10, 10]\n",
        "  random_cards = random.choice(cards)\n",
        "  return (random_cards)\n",
        "\n",
        "def calculate_score(cards):\n",
        "  if 11 in cards and 10 in cards and len(cards) == 2:\n",
        "    return 0\n",
        "  if 11 in cards and sum(cards)>21:\n",
        "    cards.remove(11)\n",
        "    cards.append(1)\n",
        "  return sum (cards)\n",
        "\n",
        "def compare(user_score, computer_score):\n",
        "  if computer_score == user_score:\n",
        "    print(\"It's a Draw.\")\n",
        "  elif computer_score == 0:\n",
        "    print(\"User lost.\")\n",
        "  elif user_score == 0 :\n",
        "    print(\"User wins.\")\n",
        "  elif user_score > 21:\n",
        "    print(\"User lost.\")\n",
        "  elif computer_score >21:\n",
        "    print(\"Computer lost.\")\n",
        "  elif user_score > computer_score:\n",
        "    print(\"User Wins\")\n",
        "  elif computer_score > user_score:\n",
        "    print(\"Computer wins.\")\n",
        "\n",
        "def blackjack():\n",
        "  print(logo)\n",
        "  start_game = True\n",
        "  user_cards = []\n",
        "  for number in range (0,2):\n",
        "    user_cards.append(deal_card())\n",
        "  computer_cards = []\n",
        "  for number in range (0,2):\n",
        "    computer_cards.append(deal_card())\n",
        "\n",
        "  while start_game == True:\n",
        "    user_score = calculate_score(user_cards)\n",
        "    computer_score = calculate_score(computer_cards)\n",
        "    print(f\"User card : {user_cards} and User Score : {user_score}\")\n",
        "    print(f\"Computer first card : {computer_cards[0]}\")\n",
        "\n",
        "    if user_score == 0 or user_score > 21 or computer_score == 0 :\n",
        "      start_game = False\n",
        "\n",
        "    else:\n",
        "      start_game == True\n",
        "      result = input(\"Draw another card: Type yes to continue or no to end the game.\")\n",
        "      if result == \"yes\":\n",
        "        user_cards.append(deal_card())\n",
        "      else:\n",
        "        start_game = False\n",
        "\n",
        "  while computer_score != 0 and computer_score < 17:\n",
        "    computer_cards.append(deal_card())\n",
        "    computer_score = calculate_score(computer_cards)\n",
        "\n",
        "  compare(user_score, computer_score)\n",
        "  print(f\"User final score is {user_score}  User final hand is {user_cards}.\")\n",
        "  print(f\"Computer final score is {computer_score}  Computer final hand is {computer_cards}.\")\n",
        "\n",
        "\n",
        "while input(\"Do you want to play a game of Blackjack? Type 'y' or 'n': \") == \"y\":\n",
        "  clear_output()\n",
        "  blackjack()\n",
        "\n"
      ]
    }
  ]
}